{
  "nbformat": 4,
  "nbformat_minor": 0,
  "metadata": {
    "colab": {
      "provenance": [],
      "authorship_tag": "ABX9TyN8jGGYa/6LaQMc+Tv9tUFt",
      "include_colab_link": true
    },
    "kernelspec": {
      "name": "python3",
      "display_name": "Python 3"
    },
    "language_info": {
      "name": "python"
    }
  },
  "cells": [
    {
      "cell_type": "markdown",
      "metadata": {
        "id": "view-in-github",
        "colab_type": "text"
      },
      "source": [
        "<a href=\"https://colab.research.google.com/github/mohankrishna12/Dice-rolling-simulator-/blob/main/Reverse_compliment_of_DNA.ipynb\" target=\"_parent\"><img src=\"https://colab.research.google.com/assets/colab-badge.svg\" alt=\"Open In Colab\"/></a>"
      ]
    },
    {
      "cell_type": "code",
      "execution_count": 1,
      "metadata": {
        "colab": {
          "base_uri": "https://localhost:8080/"
        },
        "id": "eRRG_oTMJY-y",
        "outputId": "615afbb6-1fd4-44aa-b6d3-ad501cd4b3be"
      },
      "outputs": [
        {
          "output_type": "stream",
          "name": "stdout",
          "text": [
            "Original sequence:         ATGCGTACCTAGGCTAATCG\n",
            "Reverse complement:        CGATTAGCCTAGGTACGCAT\n"
          ]
        }
      ],
      "source": [
        "\n",
        "# Reverse Complement of a DNA sequence\n",
        "\n",
        "# Example DNA sequence (feel free to modify it)\n",
        "dna_sequence = \"ATGCGTACCTAGGCTAATCG\"\n",
        "\n",
        "# Define the complement mapping as a dictionary\n",
        "complement = {\"A\": \"T\", \"T\": \"A\", \"G\": \"C\", \"C\": \"G\"}\n",
        "\n",
        "# Build the reverse complement\n",
        "reverse_complement = \"\"\n",
        "for nucleotide in reversed(dna_sequence):\n",
        "    if nucleotide in complement:\n",
        "        reverse_complement += complement[nucleotide]\n",
        "    else:\n",
        "        reverse_complement += nucleotide  # Handles unexpected letters\n",
        "\n",
        "print(\"Original sequence:        \", dna_sequence)\n",
        "print(\"Reverse complement:       \", reverse_complement)"
      ]
    },
    {
      "cell_type": "code",
      "source": [],
      "metadata": {
        "id": "zuqEnaaaJeYz"
      },
      "execution_count": null,
      "outputs": []
    }
  ]
}